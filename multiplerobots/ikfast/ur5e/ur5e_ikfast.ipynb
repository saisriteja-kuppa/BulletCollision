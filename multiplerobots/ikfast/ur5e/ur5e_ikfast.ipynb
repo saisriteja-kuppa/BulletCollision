{
 "cells": [
  {
   "cell_type": "code",
   "execution_count": 16,
   "metadata": {
    "scrolled": true
   },
   "outputs": [],
   "source": [
    "import numpy as np\n",
    "import ikfastpy\n",
    "import math\n",
    "np.set_printoptions(formatter={'float': lambda x: \"{0:0.3f}\".format(x)})"
   ]
  },
  {
   "cell_type": "code",
   "execution_count": 17,
   "metadata": {
    "scrolled": false
   },
   "outputs": [
    {
     "name": "stdout",
     "output_type": "stream",
     "text": [
      "\n",
      "Testing forward kinematics:\n",
      "\n",
      "Joint angles:\n",
      "[-3.1, -1.6, 1.6, -1.6, -1.6, 0.0]\n",
      "\n",
      "End effector pose:\n",
      "[[0.039 -0.999 0.030 0.477]\n",
      " [-0.999 -0.040 -0.028 0.150]\n",
      " [0.029 -0.029 -0.999 0.491]]\n",
      "\n",
      "-----------------------------\n",
      "\n",
      "Testing inverse kinematics:\n",
      "\n",
      "8 solutions found:\n",
      "[0.587 -3.054 1.595 3.039 1.531 0.545]\n",
      "[0.587 -2.974 0.981 0.432 -1.531 -2.596]\n",
      "[0.587 -2.036 -0.981 1.456 -1.531 -2.596]\n",
      "[-3.100 -1.600 1.600 -1.600 -1.600 0.000]\n",
      "[0.587 -1.542 -1.595 -1.566 1.531 0.545]\n",
      "[-3.100 -1.105 0.975 1.672 1.600 -3.142]\n",
      "[-3.100 -0.083 -1.600 0.083 -1.600 0.000]\n",
      "[-3.100 -0.173 -0.975 2.690 1.600 -3.142]\n",
      "\n",
      "Test passed!\n"
     ]
    }
   ],
   "source": [
    "import numpy as np\n",
    "import ikfastpy\n",
    "np.set_printoptions(formatter={'float': lambda x: \"{0:0.3f}\".format(x)})\n",
    "\n",
    "# Initialize kinematics for UR5 robot arm\n",
    "ur5_kin = ikfastpy.PyKinematics()\n",
    "n_joints = ur5_kin.getDOF()\n",
    "\n",
    "joint_angles = [-3.1, -1.6, 1.6, -1.6, -1.6, 0.0] # in radians\n",
    "\n",
    "# Test forward kinematics: get end effector pose from joint angles\n",
    "print(\"\\nTesting forward kinematics:\\n\")\n",
    "print(\"Joint angles:\")\n",
    "print(joint_angles)\n",
    "ee_pose = ur5_kin.forward(joint_angles)\n",
    "ee_pose = np.asarray(ee_pose).reshape(3,4) # 3x4 rigid transformation matrix\n",
    "print(\"\\nEnd effector pose:\")\n",
    "print(ee_pose)\n",
    "print(\"\\n-----------------------------\")\n",
    "\n",
    "# Test inverse kinematics: get joint angles from end effector pose\n",
    "print(\"\\nTesting inverse kinematics:\\n\")\n",
    "joint_configs = ur5_kin.inverse(ee_pose.reshape(-1).tolist())\n",
    "n_solutions = int(len(joint_configs)/n_joints)\n",
    "print(\"%d solutions found:\"%(n_solutions))\n",
    "joint_configs = np.asarray(joint_configs).reshape(n_solutions,n_joints)\n",
    "for joint_config in joint_configs:\n",
    "    print(joint_config)\n",
    "\n",
    "# Check cycle-consistency of forward and inverse kinematics\n",
    "assert(np.any([np.sum(np.abs(joint_config-np.asarray(joint_angles))) < 1e-4 for joint_config in joint_configs]))\n",
    "print(\"\\nTest passed!\")"
   ]
  },
  {
   "cell_type": "code",
   "execution_count": 15,
   "metadata": {},
   "outputs": [
    {
     "data": {
      "text/plain": [
       "array([[-3.100, -1.106, 0.976, 1.672, 1.600, -3.140],\n",
       "       [-3.100, -0.173, -0.976, 2.690, 1.600, -3.140],\n",
       "       [-3.100, -1.599, 1.599, -1.600, -1.600, 0.001],\n",
       "       [-3.100, -0.083, -1.599, 0.082, -1.600, 0.001],\n",
       "       [0.583, -3.054, 1.594, 3.041, 1.531, 0.544],\n",
       "       [0.583, -1.542, -1.594, -1.566, 1.531, 0.544],\n",
       "       [0.583, -2.974, 0.982, 0.431, -1.531, -2.598],\n",
       "       [0.583, -2.035, -0.982, 1.456, -1.531, -2.598]])"
      ]
     },
     "execution_count": 15,
     "metadata": {},
     "output_type": "execute_result"
    }
   ],
   "source": [
    "conversion(solUR5ik(ee_pose[:,3:],ee_pose[:,0:3]))"
   ]
  },
  {
   "cell_type": "code",
   "execution_count": 18,
   "metadata": {
    "scrolled": false
   },
   "outputs": [
    {
     "data": {
      "text/plain": [
       "array([[0.041, -0.999, 0.030, 0.477],\n",
       "       [-0.999, -0.042, -0.028, 0.150],\n",
       "       [0.029, -0.029, -0.999, 0.491]])"
      ]
     },
     "execution_count": 18,
     "metadata": {},
     "output_type": "execute_result"
    }
   ],
   "source": [
    "def forwardkinematics(thetas):\n",
    "\n",
    "    d1 = 0.1625\n",
    "    a2 = -0.425\n",
    "    a3 = -0.3922\n",
    "    d4 = 0.1333\n",
    "    d5 = 0.0997 \n",
    "    d6 = 0.0996 \n",
    "    t1 = thetas[0]\n",
    "    t2 = thetas[1]\n",
    "    t3 = thetas[2]\n",
    "    t4 = thetas[3]\n",
    "    t5 = thetas[4]\n",
    "    t6 = thetas[5]\n",
    "\n",
    "    dh = np.array([[0, 0, d1, t1],\n",
    "                  [np.deg2rad(90), 0, 0, t2],\n",
    "                  [0, 0, d4, 0],\n",
    "                  [0, a2, 0, t3],\n",
    "                  [0, 0, -d4, 0],\n",
    "                  [0, a3, 0, 0],\n",
    "                  [0, 0, d4, t4],\n",
    "                  [np.deg2rad(90), 0, d5, t5],\n",
    "                  [np.deg2rad(-90), 0, d6, t6]])\n",
    "    \n",
    "    T = []\n",
    "    for i in range(len(dh)):\n",
    "        t = np.array([[np.cos(dh[i][3]), -np.sin(dh[i][3]), 0, dh[i][1]],\n",
    "                      [np.sin(dh[i][3])*np.cos(dh[i][0]), np.cos(dh[i][3])*np.cos(dh[i][0]), -np.sin(dh[i][0]), (-np.sin(dh[i][0])*dh[i][2])],\n",
    "                      [np.sin(dh[i][3])*np.sin(dh[i][0]), np.cos(dh[i][3])*np.sin(dh[i][0]), np.cos(dh[i][0]), np.cos(dh[i][0])*dh[i][2]],\n",
    "                      [0, 0, 0, 1]])\n",
    "        T.append(t)\n",
    "    return T\n",
    "\n",
    "T = forwardkinematics(joint_angles)\n",
    "t = [T[0]]\n",
    "for i in range(len(T)-1):\n",
    "    t.append(np.matmul(t[i],T[i+1]))\n",
    "\n",
    "FK_pose = t[-1][:3,:4]\n",
    "FK_pose"
   ]
  },
  {
   "cell_type": "code",
   "execution_count": 19,
   "metadata": {},
   "outputs": [
    {
     "data": {
      "text/plain": [
       "array([[0.039, -0.999, 0.030, 0.477],\n",
       "       [-0.999, -0.040, -0.028, 0.150],\n",
       "       [0.029, -0.029, -0.999, 0.491]])"
      ]
     },
     "execution_count": 19,
     "metadata": {},
     "output_type": "execute_result"
    }
   ],
   "source": [
    "ee_pose"
   ]
  },
  {
   "cell_type": "code",
   "execution_count": 12,
   "metadata": {},
   "outputs": [
    {
     "data": {
      "text/plain": [
       "array([[0.041, -0.999, 0.030],\n",
       "       [-0.999, -0.042, -0.028],\n",
       "       [0.029, -0.029, -0.999]])"
      ]
     },
     "execution_count": 12,
     "metadata": {},
     "output_type": "execute_result"
    }
   ],
   "source": [
    "R = FK_pose[:,0:3]\n",
    "R"
   ]
  },
  {
   "cell_type": "code",
   "execution_count": 13,
   "metadata": {},
   "outputs": [
    {
     "data": {
      "text/plain": [
       "array([[0.477],\n",
       "       [0.150],\n",
       "       [0.491]])"
      ]
     },
     "execution_count": 13,
     "metadata": {},
     "output_type": "execute_result"
    }
   ],
   "source": [
    "p = FK_pose[:,3:]\n",
    "p"
   ]
  },
  {
   "cell_type": "code",
   "execution_count": 14,
   "metadata": {
    "scrolled": true
   },
   "outputs": [
    {
     "data": {
      "text/plain": [
       "array([[-3.100, -1.107, 0.978, 1.671, 1.600, -3.142],\n",
       "       [-3.100, -0.172, -0.978, 2.691, 1.600, -3.142],\n",
       "       [-3.100, -1.600, 1.600, -1.600, -1.600, 0.000],\n",
       "       [-3.100, -0.083, -1.600, 0.083, -1.600, 0.000],\n",
       "       [0.584, -3.054, 1.595, 3.040, 1.531, 0.543],\n",
       "       [0.584, -1.542, -1.595, -1.566, 1.531, 0.543],\n",
       "       [0.584, -2.975, 0.983, 0.430, -1.531, -2.599],\n",
       "       [0.584, -2.034, -0.983, 1.457, -1.531, -2.599]])"
      ]
     },
     "execution_count": 14,
     "metadata": {},
     "output_type": "execute_result"
    }
   ],
   "source": [
    "conversion(solUR5ik(p,R))"
   ]
  },
  {
   "cell_type": "code",
   "execution_count": 8,
   "metadata": {},
   "outputs": [],
   "source": [
    "#inverse kinematics\n",
    "def DHTable2HomTrans(DHTable):\n",
    "    T = [[1,0,0,0],[0,1,0,0],[0,0,1,0],[0,0,0,1]]\n",
    "    for i in range(np.shape(DHTable)[0]):\n",
    "        T1 = np.dot(T,DH2HomTrans(DHTable[i]))\n",
    "        T = T1\n",
    "    return T\n",
    "\n",
    "def DH2HomTrans(DHparams):\n",
    "    [al,a,d,th] = DHparams\n",
    "    T = [[np.cos(th),-np.sin(th)*np.cos(al),np.sin(th)*np.sin(al),a*np.cos(th)],[np.sin(th),np.cos(th)*np.cos(al),-np.cos(th)*np.sin(al),a*np.sin(th)],[0,np.sin(al),np.cos(al),d],[0,0,0,1]]\n",
    "    return T\n",
    "\n",
    "def sol2Rik(x,y,l1,l2):\n",
    "    a = -2.0*l1*x\n",
    "    b = -2.0*l1*y\n",
    "    c = l1**2.0 - l2**2.0 + x**2.0 + y**2.0\n",
    "    d = -c/np.sqrt(a**2.0+b**2.0)\n",
    "    theta1 = [np.arctan2(b,a)+np.arccos(d),np.arctan2(b,a)-np.arccos(d)]\n",
    "    theta2 = [None]*len(theta1)\n",
    "    j = 0\n",
    "    for i in theta1:\n",
    "        theta12 = np.arctan2((y - l1*np.sin(i))/l2,(x - l1*np.cos(i))/l2)\n",
    "        theta2[j] = theta12 - i\n",
    "        j = j+1\n",
    "    t1t2 = np.column_stack((theta1, theta2))\n",
    "    return t1t2\n",
    "\n",
    "def solUR5ik(p,R):\n",
    "    d1 = 0.1625\n",
    "    a2 = -0.425\n",
    "    a3 = -0.3922\n",
    "    d4 = 0.1333\n",
    "    d5 = 0.0997 #+ 0.025\n",
    "    d6 = 0.0996 #+ 0.08165\n",
    "    [x,y,z] = p\n",
    "    [[nx,ox,ax],[ny,oy,ay],[nz,oz,az]] = R\n",
    "    a = ay*d6 - y\n",
    "    b = -ax*d6 + x\n",
    "    c = -d4\n",
    "    d = -c/np.sqrt(a**2.0+b**2.0)\n",
    "    theta1 = [np.arctan2(b,a)+np.arccos(d),np.arctan2(b,a)-np.arccos(d)]\n",
    "    theta5 = [None]*len(theta1)\n",
    "    j = 0\n",
    "    for i in theta1:\n",
    "        theta5[j] = [np.arccos((-d4-y*np.cos(i)+x*np.sin(i))/d6),-np.arccos((-d4-y*np.cos(i)+x*np.sin(i))/d6)]\n",
    "        j = j+1\n",
    "    \n",
    "    \n",
    "    t1t5 = [[theta1[0],theta5[0][0]],[theta1[0],theta5[0][1]],[theta1[1],theta5[1][0]],[theta1[1],theta5[1][1]]]\n",
    "    theta6 = [None]*np.shape(t1t5)[0]\n",
    "    j = 0\n",
    "    for i in range(np.shape(t1t5)[0]):\n",
    "        theta6[j] = [np.arctan2((oy*np.cos(t1t5[i][0])-ox*np.sin(t1t5[i][0]))/np.sin(t1t5[i][1]),(-ny*np.cos(t1t5[i][0])+nx*np.sin(t1t5[i][0]))/np.sin(t1t5[i][1]))]\n",
    "        j = j+1     \n",
    "    t1t5t6 = np.hstack((t1t5,theta6))\n",
    "    k = 0\n",
    "    t2t3t4 = [None]*np.shape(t1t5)[0]*2  \n",
    "    TUR5 = np.vstack((np.hstack((R,np.array(p).reshape(3,1))),[0,0,0,1]))\n",
    "    for i in range(np.shape(t1t5t6)[0]):\n",
    "        T01 = DHTable2HomTrans([[np.pi/2,0,d1,t1t5t6[i][0]]])\n",
    "        T56 = DHTable2HomTrans([[-np.pi/2,0,d5,t1t5t6[i][1]],[0,0,d6,t1t5t6[i][2]]])\n",
    "        T3R = np.dot(np.dot(np.linalg.inv(T01),TUR5),np.linalg.inv(T56))\n",
    "        \n",
    "        theta234 = np.arctan2(T3R[1][0],T3R[0][0])\n",
    "        theta23 = sol2Rik(T3R[0][3],T3R[1][3],a2,a3)\n",
    "        for j in range(np.shape(theta23)[0]):\n",
    "            theta4 = theta234 - theta23[j][0] - theta23[j][1]\n",
    "            t2t3t4[k]=[theta23[j][0],theta23[j][1],theta4]\n",
    "            k = k+1\n",
    "    t1 = np.array([val for val in t1t5 for _ in (0, 1)])[:,0]\n",
    "    t5 = np.array([val for val in t1t5 for _ in (0, 1)])[:,1]\n",
    "    t6 = np.array([val for val in theta6 for _ in (0, 1)])\n",
    "    ikUR5 = np.hstack((t1.reshape(8,1),t2t3t4,t5.reshape(8,1),t6.reshape(8,1)))\n",
    "    return ikUR5\n",
    "\n",
    "#conversion\n",
    "def conversion(iks):\n",
    "    iks_converted = []\n",
    "    for i in range(len(iks)):\n",
    "        b = []\n",
    "        for j in range(len(iks[i])):\n",
    "            if iks[i][j] > 0:\n",
    "                if (iks[i][j])> math.pi:\n",
    "                    iks[i][j] = iks[i][j] - 2*math.pi\n",
    "            elif iks[i][j] < 0:\n",
    "                if (-iks[i][j])> math.pi:\n",
    "                    iks[i][j] = iks[i][j] + 2*math.pi\n",
    "            else:\n",
    "                iks[i][j] = iks[i][j]\n",
    "            b.append(iks[i][j])\n",
    "        iks_converted.append(b)\n",
    "    return np.array(iks_converted)"
   ]
  },
  {
   "cell_type": "code",
   "execution_count": 1,
   "metadata": {},
   "outputs": [],
   "source": [
    "def isRotationMatrix(R) :\n",
    "    Rt = np.transpose(R)\n",
    "    shouldBeIdentity = np.dot(Rt, R)\n",
    "    I = np.identity(3, dtype = R.dtype)\n",
    "    n = np.linalg.norm(I - shouldBeIdentity)\n",
    "    return n < 1e-6\n",
    "\n",
    "# Calculates rotation matrix to euler angles\n",
    "# The result is the same as MATLAB except the order\n",
    "# of the euler angles ( x and z are swapped ).\n",
    "def rotationMatrixToEulerAngles(R) :\n",
    "    assert(isRotationMatrix(R))\n",
    "    sy = math.sqrt(R[0,0] * R[0,0] +  R[1,0] * R[1,0])\n",
    "    singular = sy < 1e-6\n",
    "    if  not singular :\n",
    "        x = math.atan2(R[2,1] , R[2,2])\n",
    "        y = math.atan2(-R[2,0], sy)\n",
    "        z = math.atan2(R[1,0], R[0,0])\n",
    "    else :\n",
    "        x = math.atan2(-R[1,2], R[1,1])\n",
    "        y = math.atan2(-R[2,0], sy)\n",
    "        z = 0\n",
    "    return np.array([x, y, z])\n",
    "\n",
    "# RPY/Euler angles to Rotation Vector\n",
    "def euler_to_rotVec(yaw, pitch, roll):\n",
    "    # compute the rotation matrix\n",
    "    Rmat = euler_to_rotMat(yaw, pitch, roll)\n",
    "    \n",
    "    theta = math.acos(((Rmat[0, 0] + Rmat[1, 1] + Rmat[2, 2]) - 1) / 2)\n",
    "    sin_theta = math.sin(theta)\n",
    "    if sin_theta == 0:\n",
    "        rx, ry, rz = 0.0, 0.0, 0.0\n",
    "    else:\n",
    "        multi = 1 / (2 * math.sin(theta))\n",
    "        rx = multi * (Rmat[2, 1] - Rmat[1, 2]) * theta\n",
    "        ry = multi * (Rmat[0, 2] - Rmat[2, 0]) * theta\n",
    "        rz = multi * (Rmat[1, 0] - Rmat[0, 1]) * theta\n",
    "    return rx, ry, rz\n",
    "\n",
    "def euler_to_rotMat(yaw, pitch, roll):\n",
    "    Rz_yaw = np.array([\n",
    "        [np.cos(yaw), -np.sin(yaw), 0],\n",
    "        [np.sin(yaw),  np.cos(yaw), 0],\n",
    "        [          0,            0, 1]])\n",
    "    Ry_pitch = np.array([\n",
    "        [ np.cos(pitch), 0, np.sin(pitch)],\n",
    "        [             0, 1,             0],\n",
    "        [-np.sin(pitch), 0, np.cos(pitch)]])\n",
    "    Rx_roll = np.array([\n",
    "        [1,            0,             0],\n",
    "        [0, np.cos(roll), -np.sin(roll)],\n",
    "        [0, np.sin(roll),  np.cos(roll)]])\n",
    "    # R = RzRyRx\n",
    "    rotMat = np.dot(Rz_yaw, np.dot(Ry_pitch, Rx_roll))\n",
    "    return rotMat\n"
   ]
  }
 ],
 "metadata": {
  "kernelspec": {
   "display_name": "Python 2",
   "language": "python",
   "name": "python2"
  },
  "language_info": {
   "codemirror_mode": {
    "name": "ipython",
    "version": 2
   },
   "file_extension": ".py",
   "mimetype": "text/x-python",
   "name": "python",
   "nbconvert_exporter": "python",
   "pygments_lexer": "ipython2",
   "version": "2.7.17"
  }
 },
 "nbformat": 4,
 "nbformat_minor": 5
}
