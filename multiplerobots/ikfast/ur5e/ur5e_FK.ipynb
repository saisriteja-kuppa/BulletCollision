{
 "cells": [
  {
   "cell_type": "code",
   "execution_count": 1,
   "metadata": {},
   "outputs": [],
   "source": [
    "import math\n",
    "import numpy as np\n",
    "import plotly.graph_objects as go\n",
    "import urx\n",
    "np.set_printoptions(formatter={'float': lambda x: \"{0:0.3f}\".format(x)})"
   ]
  },
  {
   "cell_type": "code",
   "execution_count": 2,
   "metadata": {},
   "outputs": [],
   "source": [
    "def forwardkinematics(thetas):\n",
    "\n",
    "    d1 = 0.1625\n",
    "    a2 = -0.425\n",
    "    a3 = -0.3922\n",
    "    d4 = 0.1333\n",
    "    d5 = 0.0997 \n",
    "    d6 = 0.0996 \n",
    "    t1 = thetas[0]\n",
    "    t2 = thetas[1]\n",
    "    t3 = thetas[2]\n",
    "    t4 = thetas[3]\n",
    "    t5 = thetas[4]\n",
    "    t6 = thetas[5]\n",
    "\n",
    "    # Declare the Denavit-Hartenberg table. \n",
    "\n",
    "    dh = np.array([[0, 0, d1, t1],\n",
    "                          [np.deg2rad(90), 0, 0, t2],\n",
    "                          [0, 0, d4, 0],\n",
    "                          [0, a2, 0, t3],\n",
    "                          [0, 0, -d4, 0],\n",
    "                          [0, a3, 0, 0],\n",
    "                          [0, 0, d4, t4],\n",
    "                          [np.deg2rad(90), 0, d5, t5],\n",
    "                          [np.deg2rad(-90), 0, d6, t6]])\n",
    "    \n",
    "    T = []\n",
    "    for i in range(len(dh)):\n",
    "        t = np.array([[np.cos(dh[i][3]), -np.sin(dh[i][3]), 0, dh[i][1]],\n",
    "                      [np.sin(dh[i][3])*np.cos(dh[i][0]), np.cos(dh[i][3])*np.cos(dh[i][0]), -np.sin(dh[i][0]), (-np.sin(dh[i][0])*dh[i][2])],\n",
    "                      [np.sin(dh[i][3])*np.sin(dh[i][0]), np.cos(dh[i][3])*np.sin(dh[i][0]), np.cos(dh[i][0]), np.cos(dh[i][0])*dh[i][2]],\n",
    "                      [0, 0, 0, 1]])\n",
    "        T.append(t)\n",
    "    return T"
   ]
  },
  {
   "cell_type": "code",
   "execution_count": 17,
   "metadata": {},
   "outputs": [
    {
     "data": {
      "text/plain": [
       "array([[-0.969, -0.063, -0.240, -0.225],\n",
       "       [0.192, 0.418, -0.888, -0.547],\n",
       "       [0.156, -0.906, -0.392, 0.226]])"
      ]
     },
     "execution_count": 17,
     "metadata": {},
     "output_type": "execute_result"
    }
   ],
   "source": [
    "T = forwardkinematics(A)\n",
    "t = [T[0]]\n",
    "for i in range(len(T)-1):\n",
    "    t.append(np.matmul(t[i],T[i+1]))\n",
    "\n",
    "t[-1][:3,:4]"
   ]
  },
  {
   "cell_type": "code",
   "execution_count": 15,
   "metadata": {},
   "outputs": [
    {
     "data": {
      "text/plain": [
       "[[[0.0, -0.0, 0.1625]],\n",
       " [[0.0, 0.0, 0.1625]],\n",
       " [[0.10341565564364974, -0.08410762253086254, 0.1625]],\n",
       " [[-0.011482300854469732, -0.225381946377176, 0.5465117511409295]],\n",
       " [[-0.11489795649811947, -0.14127432384631347, 0.5465117511409295]],\n",
       " [[-0.3309918839129291, -0.40697551134585996, 0.35539102098385367]],\n",
       " [[-0.22757622826927937, -0.49108313387672253, 0.35539102098385367]],\n",
       " [[-0.2009524349986398, -0.4583474916845553, 0.265060287774449]],\n",
       " [[-0.2248149766147533, -0.5467951741699169, 0.22597388898167292]]]"
      ]
     },
     "execution_count": 15,
     "metadata": {},
     "output_type": "execute_result"
    }
   ],
   "source": [
    "joint_locations = []\n",
    "for i in range(len(t)):\n",
    "    joint_locations.append(np.transpose(t[i][:3,3:]).tolist())\n",
    "joint_locations"
   ]
  },
  {
   "cell_type": "code",
   "execution_count": 7,
   "metadata": {
    "scrolled": false
   },
   "outputs": [
    {
     "name": "stderr",
     "output_type": "stream",
     "text": [
      "tried 11 times to find a packet in data, advertised packet size: -2, type: 3\n",
      "Data length: 44\n",
      "tried 11 times to find a packet in data, advertised packet size: -2, type: 3\n",
      "Data length: 68\n",
      "tried 11 times to find a packet in data, advertised packet size: -2, type: 3\n",
      "Data length: 1092\n",
      "tried 11 times to find a packet in data, advertised packet size: -2, type: 3\n",
      "Data length: 1539\n"
     ]
    }
   ],
   "source": [
    "# communicate to robot simulation\n",
    "# robo = urx.Robot(\"172.16.101.224\")\n",
    "robo = urx.Robot(\"localhost\")"
   ]
  },
  {
   "cell_type": "code",
   "execution_count": 8,
   "metadata": {},
   "outputs": [],
   "source": [
    "robo.movej((0.888, -1.128, 1.637, -0.072, 1.187, 2.798),1,1,wait=False)"
   ]
  },
  {
   "cell_type": "code",
   "execution_count": 10,
   "metadata": {},
   "outputs": [
    {
     "data": {
      "text/plain": [
       "[0.8880000000000002,\n",
       " -1.1280000000000001,\n",
       " 1.637,\n",
       " -0.07200000000000006,\n",
       " 1.1870000000000003,\n",
       " 2.798]"
      ]
     },
     "execution_count": 10,
     "metadata": {},
     "output_type": "execute_result"
    }
   ],
   "source": [
    "A= robo.getj()\n",
    "A"
   ]
  }
 ],
 "metadata": {
  "kernelspec": {
   "display_name": "Python 3",
   "language": "python",
   "name": "python3"
  },
  "language_info": {
   "codemirror_mode": {
    "name": "ipython",
    "version": 3
   },
   "file_extension": ".py",
   "mimetype": "text/x-python",
   "name": "python",
   "nbconvert_exporter": "python",
   "pygments_lexer": "ipython3",
   "version": "3.7.3"
  }
 },
 "nbformat": 4,
 "nbformat_minor": 5
}
