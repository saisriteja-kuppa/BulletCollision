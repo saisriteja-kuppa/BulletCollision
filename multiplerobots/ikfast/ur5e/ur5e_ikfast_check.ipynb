{
 "cells": [
  {
   "cell_type": "code",
   "execution_count": 1,
   "metadata": {},
   "outputs": [],
   "source": [
    "import numpy as np\n",
    "import urx\n",
    "import math\n",
    "from decimal import *\n",
    "import pandas as pd\n",
    "np.set_printoptions(formatter={'float': lambda x: \"{0:0.3f}\".format(x)})"
   ]
  },
  {
   "cell_type": "code",
   "execution_count": 29,
   "metadata": {},
   "outputs": [
    {
     "name": "stderr",
     "output_type": "stream",
     "text": [
      "tried 11 times to find a packet in data, advertised packet size: -2, type: 3\n",
      "Data length: 68\n",
      "tried 11 times to find a packet in data, advertised packet size: -2, type: 3\n",
      "Data length: 1092\n",
      "tried 11 times to find a packet in data, advertised packet size: -2, type: 3\n",
      "Data length: 1454\n",
      "Exception in thread Thread-11:\n",
      "Traceback (most recent call last):\n",
      "  File \"/usr/lib/python3.6/threading.py\", line 916, in _bootstrap_inner\n",
      "    self.run()\n",
      "  File \"/home/robo/.local/lib/python3.6/site-packages/urx/ursecmon.py\", line 286, in run\n",
      "    data = self._get_data()\n",
      "  File \"/home/robo/.local/lib/python3.6/site-packages/urx/ursecmon.py\", line 333, in _get_data\n",
      "    tmp = self._s_secondary.recv(1024)\n",
      "ConnectionResetError: [Errno 104] Connection reset by peer\n",
      "\n",
      "Exception in thread Thread-10:\n",
      "Traceback (most recent call last):\n",
      "  File \"/usr/lib/python3.6/threading.py\", line 916, in _bootstrap_inner\n",
      "    self.run()\n",
      "  File \"/home/robo/.local/lib/python3.6/site-packages/urx/ursecmon.py\", line 286, in run\n",
      "    data = self._get_data()\n",
      "  File \"/home/robo/.local/lib/python3.6/site-packages/urx/ursecmon.py\", line 333, in _get_data\n",
      "    tmp = self._s_secondary.recv(1024)\n",
      "ConnectionResetError: [Errno 104] Connection reset by peer\n",
      "\n",
      "Exception in thread Thread-13:\n",
      "Traceback (most recent call last):\n",
      "  File \"/usr/lib/python3.6/threading.py\", line 916, in _bootstrap_inner\n",
      "    self.run()\n",
      "  File \"/home/robo/.local/lib/python3.6/site-packages/urx/ursecmon.py\", line 286, in run\n",
      "    data = self._get_data()\n",
      "  File \"/home/robo/.local/lib/python3.6/site-packages/urx/ursecmon.py\", line 333, in _get_data\n",
      "    tmp = self._s_secondary.recv(1024)\n",
      "ConnectionResetError: [Errno 104] Connection reset by peer\n",
      "\n",
      "Exception in thread Thread-14:\n",
      "Traceback (most recent call last):\n",
      "  File \"/usr/lib/python3.6/threading.py\", line 916, in _bootstrap_inner\n",
      "    self.run()\n",
      "  File \"/home/robo/.local/lib/python3.6/site-packages/urx/ursecmon.py\", line 286, in run\n",
      "    data = self._get_data()\n",
      "  File \"/home/robo/.local/lib/python3.6/site-packages/urx/ursecmon.py\", line 333, in _get_data\n",
      "    tmp = self._s_secondary.recv(1024)\n",
      "ConnectionResetError: [Errno 104] Connection reset by peer\n",
      "\n",
      "Exception in thread Thread-12:\n",
      "Traceback (most recent call last):\n",
      "  File \"/usr/lib/python3.6/threading.py\", line 916, in _bootstrap_inner\n",
      "    self.run()\n",
      "  File \"/home/robo/.local/lib/python3.6/site-packages/urx/ursecmon.py\", line 286, in run\n",
      "    data = self._get_data()\n",
      "  File \"/home/robo/.local/lib/python3.6/site-packages/urx/ursecmon.py\", line 333, in _get_data\n",
      "    tmp = self._s_secondary.recv(1024)\n",
      "ConnectionResetError: [Errno 104] Connection reset by peer\n",
      "\n"
     ]
    }
   ],
   "source": [
    "# robo = urx.Robot(\"localhost\")\n",
    "robo = urx.Robot(\"172.16.101.224\")"
   ]
  },
  {
   "cell_type": "code",
   "execution_count": 4,
   "metadata": {},
   "outputs": [],
   "source": [
    "#Home position\n",
    "robo.movej((0, -1.57, 1.57, 0, 1.57, 3.14),0.2,0.2,wait=False)"
   ]
  },
  {
   "cell_type": "code",
   "execution_count": 34,
   "metadata": {},
   "outputs": [],
   "source": [
    "robo.movej((-3.1, -1.6, 1.6, -1.6, -1.6, 0.0),1,1,wait=False) #input joint values"
   ]
  },
  {
   "cell_type": "code",
   "execution_count": 35,
   "metadata": {},
   "outputs": [
    {
     "data": {
      "text/plain": [
       "[0.4765157848055126,\n",
       " 0.15033558730939428,\n",
       " 0.49071489380414174,\n",
       " -2.265589368947053,\n",
       " 2.174192072540314,\n",
       " -0.0648332834714804]"
      ]
     },
     "execution_count": 35,
     "metadata": {},
     "output_type": "execute_result"
    }
   ],
   "source": [
    "I = robo.getl()\n",
    "I"
   ]
  },
  {
   "cell_type": "code",
   "execution_count": 53,
   "metadata": {},
   "outputs": [],
   "source": [
    "robo.movej((-3.100, -1.105, 0.975, 1.672, 1.600, -3.142),1,1,wait=False) #fastik solution 6"
   ]
  },
  {
   "cell_type": "code",
   "execution_count": 54,
   "metadata": {
    "scrolled": false
   },
   "outputs": [
    {
     "data": {
      "text/plain": [
       "[0.47714105804464624,\n",
       " 0.15036160908980117,\n",
       " 0.4906779391876316,\n",
       " -2.266263303250065,\n",
       " 2.1739393822273523,\n",
       " -0.0643970285905482]"
      ]
     },
     "execution_count": 54,
     "metadata": {},
     "output_type": "execute_result"
    }
   ],
   "source": [
    "c = robo.getl()\n",
    "c"
   ]
  },
  {
   "cell_type": "code",
   "execution_count": 55,
   "metadata": {},
   "outputs": [
    {
     "data": {
      "text/plain": [
       "array([-0.001, -0.000, 0.000, 0.001, 0.000, -0.000])"
      ]
     },
     "execution_count": 55,
     "metadata": {},
     "output_type": "execute_result"
    }
   ],
   "source": [
    "np.array(I) - np.array(c)"
   ]
  },
  {
   "cell_type": "code",
   "execution_count": 38,
   "metadata": {},
   "outputs": [],
   "source": [
    "robo.movej((-3.100, -1.107, 0.978, 1.671, 1.600, -3.142),1,1,wait=False) #Solur5ik solution 1"
   ]
  },
  {
   "cell_type": "code",
   "execution_count": 39,
   "metadata": {
    "scrolled": false
   },
   "outputs": [
    {
     "data": {
      "text/plain": [
       "[0.4764324936135095,\n",
       " 0.15033212100861706,\n",
       " 0.49067002782592417,\n",
       " -2.2662633032499775,\n",
       " 2.1739393822274606,\n",
       " -0.06439702858998204]"
      ]
     },
     "execution_count": 39,
     "metadata": {},
     "output_type": "execute_result"
    }
   ],
   "source": [
    "a =robo.getl()\n",
    "a"
   ]
  },
  {
   "cell_type": "code",
   "execution_count": 46,
   "metadata": {},
   "outputs": [
    {
     "data": {
      "text/plain": [
       "array([0.000, 0.000, 0.000, 0.001, 0.000, -0.000])"
      ]
     },
     "execution_count": 46,
     "metadata": {},
     "output_type": "execute_result"
    }
   ],
   "source": [
    "np.array(I) - np.array(a)"
   ]
  },
  {
   "cell_type": "code",
   "execution_count": 40,
   "metadata": {},
   "outputs": [],
   "source": [
    "robo.movej((-3.100, -1.106, 0.976, 1.672, 1.600, -3.140),1,1,wait=False) #Solur5ik solution from ee_pose 1"
   ]
  },
  {
   "cell_type": "code",
   "execution_count": 41,
   "metadata": {},
   "outputs": [
    {
     "data": {
      "text/plain": [
       "[0.4767615688708326,\n",
       " 0.15034581601997454,\n",
       " 0.4908686314288252,\n",
       " -2.264058688855107,\n",
       " 2.176176162662625,\n",
       " -0.0643952823096667]"
      ]
     },
     "execution_count": 41,
     "metadata": {},
     "output_type": "execute_result"
    }
   ],
   "source": [
    "d =robo.getl()\n",
    "d"
   ]
  },
  {
   "cell_type": "code",
   "execution_count": 47,
   "metadata": {},
   "outputs": [
    {
     "data": {
      "text/plain": [
       "array([-0.000, -0.000, -0.000, -0.002, -0.002, -0.000])"
      ]
     },
     "execution_count": 47,
     "metadata": {},
     "output_type": "execute_result"
    }
   ],
   "source": [
    "np.array(I) - np.array(d)"
   ]
  },
  {
   "cell_type": "code",
   "execution_count": 12,
   "metadata": {},
   "outputs": [],
   "source": [
    "robo.set_freedrive(0)"
   ]
  },
  {
   "cell_type": "code",
   "execution_count": null,
   "metadata": {},
   "outputs": [],
   "source": [
    "robo.stop()"
   ]
  },
  {
   "cell_type": "code",
   "execution_count": 7,
   "metadata": {},
   "outputs": [
    {
     "name": "stderr",
     "output_type": "stream",
     "text": [
      "Exception in thread Thread-6:\n",
      "Traceback (most recent call last):\n",
      "  File \"/usr/lib/python3.6/threading.py\", line 916, in _bootstrap_inner\n",
      "    self.run()\n",
      "  File \"/home/robo/.local/lib/python3.6/site-packages/urx/ursecmon.py\", line 286, in run\n",
      "    data = self._get_data()\n",
      "  File \"/home/robo/.local/lib/python3.6/site-packages/urx/ursecmon.py\", line 333, in _get_data\n",
      "    tmp = self._s_secondary.recv(1024)\n",
      "ConnectionResetError: [Errno 104] Connection reset by peer\n",
      "\n"
     ]
    }
   ],
   "source": [
    "#Home position\n",
    "robo.movej((0, -1.57, 1.57, 0, 1.57, 3.14),0.2,0.2,wait=False)"
   ]
  },
  {
   "cell_type": "code",
   "execution_count": 8,
   "metadata": {},
   "outputs": [
    {
     "data": {
      "text/plain": [
       "[-0.49234175220120224,\n",
       " -0.1329010195873261,\n",
       " 0.487881945991931,\n",
       " -1.2099592230237057,\n",
       " -1.2092894533655278,\n",
       " 1.2086744920293737]"
      ]
     },
     "execution_count": 8,
     "metadata": {},
     "output_type": "execute_result"
    }
   ],
   "source": [
    "robo.getl()"
   ]
  },
  {
   "cell_type": "code",
   "execution_count": 25,
   "metadata": {
    "scrolled": true
   },
   "outputs": [
    {
     "data": {
      "text/plain": [
       "[-0.4732470637264985, -0.46916063788467727, 0.12652691618583747]"
      ]
     },
     "execution_count": 25,
     "metadata": {},
     "output_type": "execute_result"
    }
   ],
   "source": [
    "plate_reg_Y = robo.getl() \n",
    "plate_reg_Y[0:3]"
   ]
  },
  {
   "cell_type": "code",
   "execution_count": 20,
   "metadata": {},
   "outputs": [
    {
     "data": {
      "text/plain": [
       "[-0.36267705111997617, -0.5583422749208483, 0.12511033451707934]"
      ]
     },
     "execution_count": 20,
     "metadata": {},
     "output_type": "execute_result"
    },
    {
     "name": "stderr",
     "output_type": "stream",
     "text": [
      "Exception in thread Thread-8:\n",
      "Traceback (most recent call last):\n",
      "  File \"/usr/lib/python3.6/threading.py\", line 916, in _bootstrap_inner\n",
      "    self.run()\n",
      "  File \"/home/robo/.local/lib/python3.6/site-packages/urx/ursecmon.py\", line 286, in run\n",
      "    data = self._get_data()\n",
      "  File \"/home/robo/.local/lib/python3.6/site-packages/urx/ursecmon.py\", line 333, in _get_data\n",
      "    tmp = self._s_secondary.recv(1024)\n",
      "ConnectionResetError: [Errno 104] Connection reset by peer\n",
      "\n",
      "Exception in thread Thread-7:\n",
      "Traceback (most recent call last):\n",
      "  File \"/usr/lib/python3.6/threading.py\", line 916, in _bootstrap_inner\n",
      "    self.run()\n",
      "  File \"/home/robo/.local/lib/python3.6/site-packages/urx/ursecmon.py\", line 286, in run\n",
      "    data = self._get_data()\n",
      "  File \"/home/robo/.local/lib/python3.6/site-packages/urx/ursecmon.py\", line 333, in _get_data\n",
      "    tmp = self._s_secondary.recv(1024)\n",
      "ConnectionResetError: [Errno 104] Connection reset by peer\n",
      "\n"
     ]
    }
   ],
   "source": [
    "# plate_reg_X = robo.getl() \n",
    "plate_reg_X[0:3]"
   ]
  },
  {
   "cell_type": "code",
   "execution_count": 22,
   "metadata": {},
   "outputs": [
    {
     "data": {
      "text/plain": [
       "[-0.46212743982551896, -0.5689311288750145, 0.1263949715929509]"
      ]
     },
     "execution_count": 22,
     "metadata": {},
     "output_type": "execute_result"
    },
    {
     "name": "stderr",
     "output_type": "stream",
     "text": [
      "Exception in thread Thread-9:\n",
      "Traceback (most recent call last):\n",
      "  File \"/usr/lib/python3.6/threading.py\", line 916, in _bootstrap_inner\n",
      "    self.run()\n",
      "  File \"/home/robo/.local/lib/python3.6/site-packages/urx/ursecmon.py\", line 286, in run\n",
      "    data = self._get_data()\n",
      "  File \"/home/robo/.local/lib/python3.6/site-packages/urx/ursecmon.py\", line 333, in _get_data\n",
      "    tmp = self._s_secondary.recv(1024)\n",
      "ConnectionResetError: [Errno 104] Connection reset by peer\n",
      "\n"
     ]
    }
   ],
   "source": [
    "# plate_reg_O = robo.getl() \n",
    "plate_reg_O[:3]"
   ]
  },
  {
   "cell_type": "code",
   "execution_count": 16,
   "metadata": {},
   "outputs": [
    {
     "data": {
      "text/plain": [
       "<Orientation: \n",
       "array([[0.031, 0.687, -0.726],\n",
       "       [0.999, -0.005, 0.038],\n",
       "       [0.022, -0.726, -0.687]])>"
      ]
     },
     "execution_count": 16,
     "metadata": {},
     "output_type": "execute_result"
    }
   ],
   "source": [
    "o = robo.get_orientation() #after manually aligning z-orientation\n",
    "o"
   ]
  },
  {
   "cell_type": "code",
   "execution_count": 25,
   "metadata": {},
   "outputs": [
    {
     "data": {
      "text/plain": [
       "-0.04099999999999998"
      ]
     },
     "execution_count": 25,
     "metadata": {},
     "output_type": "execute_result"
    }
   ],
   "source": [
    "0.164-0.205"
   ]
  },
  {
   "cell_type": "code",
   "execution_count": 31,
   "metadata": {},
   "outputs": [
    {
     "data": {
      "text/plain": [
       "0.016449999999999992"
      ]
     },
     "execution_count": 31,
     "metadata": {},
     "output_type": "execute_result"
    }
   ],
   "source": [
    "0.16865 -0.1522"
   ]
  }
 ],
 "metadata": {
  "kernelspec": {
   "display_name": "Python 3",
   "language": "python",
   "name": "python3"
  },
  "language_info": {
   "codemirror_mode": {
    "name": "ipython",
    "version": 3
   },
   "file_extension": ".py",
   "mimetype": "text/x-python",
   "name": "python",
   "nbconvert_exporter": "python",
   "pygments_lexer": "ipython3",
   "version": "3.7.3"
  }
 },
 "nbformat": 4,
 "nbformat_minor": 5
}
